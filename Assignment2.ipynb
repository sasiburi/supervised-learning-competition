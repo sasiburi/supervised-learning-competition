{
 "cells": [
  {
   "cell_type": "code",
   "execution_count": 70,
   "id": "0a789f62-f7ea-468c-9c96-2d8014a378e6",
   "metadata": {},
   "outputs": [],
   "source": [
    "import pandas as pd\n",
    "import numpy as np\n",
    "from sklearn import preprocessing\n",
    "import matplotlib.pyplot as plt\n",
    "from tqdm import tqdm\n",
    "from sklearn import preprocessing\n",
    "import scipy as sp\n",
    "from sklearn.model_selection import train_test_split\n",
    "'''\n",
    "Genarating Dataset\n",
    "'''\n",
    "path = \"./Data/C2T1_Train.csv\"\n",
    "data = pd.read_csv(path)\n"
   ]
  },
  {
   "cell_type": "code",
   "execution_count": 71,
   "id": "686a8106-29aa-4c51-b145-2620fe6d7bcb",
   "metadata": {},
   "outputs": [
    {
     "data": {
      "image/png": "[encoded data removed]",
      "text/plain": [
       "<Figure size 432x288 with 1 Axes>"
      ]
     },
     "metadata": {
      "needs_background": "light"
     },
     "output_type": "display_data"
    }
   ],
   "source": [
    "'''\n",
    "Finding Missing Data\n",
    "'''\n",
    "lis = []\n",
    "names = []\n",
    "for col in data.columns:\n",
    "    if data[col].dtype == object:\n",
    "         if data[col][data[col] == '?'].count()/data.shape[0] > 0.3:\n",
    "                lis.append(data[col][data[col] == '?'].count()/data.shape[0])\n",
    "                names.append(col)\n",
    "plt.bar(names, lis)\n",
    "plt.xlabel('data name') \n",
    "plt.ylabel('percentage') \n",
    "plt.title(\"Missing data >= 0.3\")\n",
    "plt.show() "
   ]
  },
  {
   "cell_type": "code",
   "execution_count": 72,
   "id": "c6849fce-de43-45a3-89f9-5fba451cbecf",
   "metadata": {},
   "outputs": [],
   "source": [
    "data = data.drop_duplicates(subset= ['patient_nbr2'], keep = 'first') #remove duplicated patients\n",
    "data = data.drop(['encounter_id2', 'patient_nbr2', 'weight', 'payer_code', 'medical_specialty', 'citoglipton', 'examide'], axis=1) #drop useless columns"
   ]
  },
  {
   "cell_type": "code",
   "execution_count": 73,
   "id": "a1a62ca9-7b79-46a1-acb4-b26be09a4d52",
   "metadata": {},
   "outputs": [],
   "source": [
    "'''\n",
    "Dealing with Missing Values\n",
    "'''\n",
    "# label_diag_1 = data[data['diag_1'] == '?'].index.values.tolist()\n",
    "# label_diag_2 = data[data['diag_2'] == '?'].index.values.tolist()\n",
    "# label_diag_3 = data[data['diag_3'] == '?'].index.values.tolist()\n",
    "# label_gender = data[data['gender'] == 'Unknown/Invalid'].index.values.tolist()\n",
    "# labels = list(set(label_diag_1+label_diag_2+label_diag_3+label_gender))\n",
    "# data = data.drop(labels=labels, axis=0)\n",
    "\n",
    "data['diag_1'].replace(to_replace = \"?\", value = np.nan, inplace=True)\n",
    "data['diag_2'].replace(to_replace = \"?\", value = np.nan, inplace=True)\n",
    "data['diag_3'].replace(to_replace = \"?\", value = np.nan, inplace=True)\n",
    "data['gender'].replace(to_replace = \"Unknown/Invalid\", value = np.nan, inplace=True)\n",
    "data['race'].replace(to_replace = \"?\", value = np.nan, inplace=True)\n",
    "data['admission_type_id'].replace(to_replace = [5, 6], value = [np.nan, np.nan], inplace=True)\n",
    "data['discharge_disposition_id'].replace(to_replace = [18, 25, 26], value = [np.nan, np.nan, np.nan], inplace=True)\n",
    "data['admission_source_id'].replace(to_replace = [9, 15, 17, 20, 21], value = [np.nan, np.nan, np.nan, np.nan, np.nan], inplace=True)\n",
    "\n",
    "data=data.dropna()\n",
    "\n",
    "#double check the missing data\n",
    "# for col in data.columns:\n",
    "#     print(col,data[col][data[col] == '?'].count())\n"
   ]
  },
  {
   "cell_type": "code",
   "execution_count": 75,
   "id": "b9d842d9-a02b-463b-a700-7e8102dd3afd",
   "metadata": {},
   "outputs": [],
   "source": [
    "'''\n",
    "Feature Engineering\n",
    "'''\n",
    "# combining features and reduce/add columns.\n",
    "data['people_hosp'] = data['number_outpatient'] + data['number_emergency'] + data['number_inpatient']\n",
    "data = data.drop(['number_outpatient', 'number_emergency', 'number_inpatient'], axis=1)\n",
    "data['total_procedures'] = data['num_lab_procedures'] + data['num_procedures'] \n",
    "# data = data.drop(['num_lab_procedures', 'num_procedures'], axis=1)\n"
   ]
  },
  {
   "cell_type": "code",
   "execution_count": 76,
   "id": "ed5530bf-4564-4432-9fb5-0bf4e4d92adc",
   "metadata": {},
   "outputs": [
    {
     "name": "stderr",
     "output_type": "stream",
     "text": [
      "52754it [00:07, 6927.58it/s]\n",
      "52754it [00:07, 7196.51it/s]\n",
      "52754it [00:07, 7302.81it/s]\n"
     ]
    }
   ],
   "source": [
    "def modifDiag(name):\n",
    "    for index, row in tqdm(data.iterrows()):\n",
    "        if \"V\" in str(row[name]) or \"E\" in str(row[name]):\n",
    "            data.loc[index, name] = 1\n",
    "        elif 139 >= float(row[name]) >= 1:\n",
    "            data.loc[index, name] = 2\n",
    "        elif 239 >= float(row[name]) >= 140:\n",
    "            data.loc[index, name] = 3\n",
    "        elif 279 >= float(row[name]) >= 240:\n",
    "            data.loc[index, name] = 4\n",
    "        elif 289 >= float(row[name]) >= 280:\n",
    "            data.loc[index, name] = 5\n",
    "        elif 319 >= float(row[name]) >= 290:\n",
    "            data.loc[index, name] = 6\n",
    "        elif 359 >= float(row[name]) >= 320:\n",
    "            data.loc[index, name] = 7\n",
    "        elif 389 >= float(row[name]) >= 360:\n",
    "            data.loc[index, name] = 8\n",
    "        elif 459 >= float(row[name]) >= 390:\n",
    "            data.loc[index, name] = 9\n",
    "        elif 519 >= float(row[name]) >= 460:\n",
    "            data.loc[index, name] = 10\n",
    "        elif 579 >= float(row[name]) >= 520:\n",
    "            data.loc[index, name] = 11\n",
    "        elif 629 >= float(row[name]) >= 580:\n",
    "            data.loc[index, name] = 12\n",
    "        elif 679 >= float(row[name]) >= 630:\n",
    "            data.loc[index, name] = 13\n",
    "        elif 709 >= float(row[name]) >= 680:\n",
    "            data.loc[index, name] = 14\n",
    "        elif 739 >= float(row[name]) >= 710:\n",
    "            data.loc[index, name] = 15\n",
    "        elif 759 >= float(row[name]) >= 740:\n",
    "            data.loc[index, name] = 16\n",
    "        elif 779 >= float(row[name]) >= 760:\n",
    "            data.loc[index, name] = 17\n",
    "        elif 799 >= float(row[name]) >= 780:\n",
    "            data.loc[index, name] = 18\n",
    "        else:\n",
    "            data.loc[index, name] = 19\n",
    "\n",
    "modifDiag('diag_1')\n",
    "modifDiag('diag_2')\n",
    "modifDiag('diag_3')\n"
   ]
  },
  {
   "cell_type": "code",
   "execution_count": 77,
   "id": "1ee0db4b-e822-4e8b-9390-2d9e07342511",
   "metadata": {},
   "outputs": [],
   "source": [
    "'''\n",
    "Shorten the Range\n",
    "'''\n",
    "\n",
    "data['admission_type_id'].replace(to_replace=[1,2,4], value=[2,2,2], inplace=True)\n",
    "data['admission_type_id'].replace(to_replace=[3,7], value=[1,1], inplace=True)\n",
    "data['admission_type_id'].replace(to_replace=8, value=0, inplace=True)\n",
    "\n",
    "\n",
    "data['discharge_disposition_id'].replace(to_replace=[19,20,21,11], value=[0]*4, inplace=True)\n",
    "data['discharge_disposition_id'].replace(to_replace=[1,2,6,8,13], value=[1]*5, inplace=True)\n",
    "data['discharge_disposition_id'].replace(to_replace=(3,4,5,7,9,10,12,14,15,16,17,22,30), value=[2]*13, inplace=True)\n",
    "data['discharge_disposition_id'].replace(to_replace=(23,24,27,29,28), value=[3]*5, inplace=True)\n",
    "\n",
    "\n",
    "data['admission_source_id'].replace(to_replace=[1,2,3,11,19], value=[0,0,0,0,0], inplace=True)\n",
    "data['admission_source_id'].replace(to_replace=(4,5,6,10,18,22,25,26), value=[1]*8, inplace=True)\n",
    "data['admission_source_id'].replace(to_replace=(13,14,23,24), value=[2]*4, inplace=True)\n",
    "data['admission_source_id'].replace(to_replace=(7,8), value=[3]*2, inplace=True)\n",
    "\n",
    "data['people_hosp'].replace(to_replace=[i for i in range(1, 11)], value=[1]*10, inplace=True)\n",
    "data['people_hosp'].replace(to_replace=[i for i in range(11, 50)], value=[2]*39, inplace=True)\n"
   ]
  },
  {
   "cell_type": "code",
   "execution_count": 28,
   "id": "60b9c1da-7381-48b8-ab49-4dd5f39dbc80",
   "metadata": {},
   "outputs": [
    {
     "name": "stderr",
     "output_type": "stream",
     "text": [
      "52754it [00:06, 8429.18it/s]\n",
      "52754it [00:06, 8439.92it/s]\n",
      "52754it [00:06, 8563.41it/s]\n",
      "52754it [00:06, 8451.76it/s]\n",
      "52754it [00:06, 8570.62it/s]\n",
      "52754it [00:06, 8466.43it/s]\n"
     ]
    }
   ],
   "source": [
    "def rerange(name):\n",
    "    avgVal = data[name].sum()/len(data[name])\n",
    "    for index, row in tqdm(data.iterrows()):\n",
    "        if avgVal/2 > float(row[name]) >= 0:\n",
    "            data.loc[index, name] = 0\n",
    "        elif avgVal > float(row[name]) >= avgVal/2:\n",
    "            data.loc[index, name] = 1\n",
    "        elif 3*avgVal/2 > float(row[name]) >= avgVal:\n",
    "            data.loc[index, name] = 2\n",
    "        else:\n",
    "            data.loc[index, name] = 3\n",
    "for col in ['time_in_hospital', 'num_lab_procedures', 'num_procedures', 'num_medications', 'total_procedures', \n",
    "            'number_diagnoses']:\n",
    "    rerange(col)"
   ]
  },
  {
   "cell_type": "code",
   "execution_count": 78,
   "id": "686f1ccf-3610-447d-9230-5bf736f92d80",
   "metadata": {},
   "outputs": [],
   "source": [
    "'''\n",
    "Tokenization\n",
    "'''\n",
    "data['change'].replace(to_replace=('No','Ch'), value=(0, 1), inplace=True)\n",
    "data['gender'].replace(to_replace=('Female', 'Male'), value=(0, 1), inplace=True) \n",
    "data['diabetesMed'].replace(to_replace=('No','Yes'), value=(0, 1), inplace=True)\n",
    "indexName = data.columns.tolist()\n",
    "data.replace(to_replace=('No','Steady','Up', 'Down'), value=(0, 0, 1, 1), inplace=True)\n",
    "data['A1Cresult'].replace(to_replace=('None', '>7', '>8', 'Norm'), value=(-999, 1, 1, 0), inplace=True)\n",
    "data['max_glu_serum'].replace(to_replace=('None', '>300', 'Norm', '>200'), value=(-999, 1, 0, 1), inplace=True)\n",
    "data.replace(to_replace=('[90-100)', '[80-90)', '[40-50)', '[50-60)', '[60-70)', '[70-80)',\n",
    "       '[20-30)', '[10-20)', '[30-40)', '[0-10)'), value=(2, 2, 2, 1, 1, 1, 1, 0, 0, 0), inplace=True)\n",
    "data['readmitted'].replace(to_replace=('NO','>30','<30'), value=(0, 1, 1), inplace=True) \n",
    "# types = tuple(data['race'].unique())\n",
    "# data['race'].replace(to_replace = types, value = tuple([i for i in range(len(types))]), inplace=True)\n",
    "data['severity'] = 0\n",
    "for medic in ['metformin', 'repaglinide', 'nateglinide', 'chlorpropamide',\n",
    "       'glimepiride', 'acetohexamide', 'glipizide', 'glyburide', 'tolbutamide',\n",
    "       'pioglitazone', 'rosiglitazone', 'acarbose', 'miglitol', 'troglitazone',\n",
    "       'tolazamide', 'insulin', 'glyburide-metformin', 'glipizide-metformin',\n",
    "       'glimepiride-pioglitazone', 'metformin-rosiglitazone',\n",
    "       'metformin-pioglitazone']:\n",
    "    data['severity'] = data['severity'] + data[medic] \n",
    "\n"
   ]
  },
  {
   "cell_type": "code",
   "execution_count": 48,
   "id": "4a2d4c66-3d4f-455e-b9b1-048ae9a5358f",
   "metadata": {},
   "outputs": [
    {
     "name": "stdout",
     "output_type": "stream",
     "text": [
      "race AfricanAmerican Other\n",
      "gender 0 1\n",
      "age 0 2\n",
      "admission_type_id 0.0 2.0\n",
      "discharge_disposition_id 0.0 3.0\n",
      "admission_source_id 0.0 3.0\n",
      "time_in_hospital 1 14\n",
      "num_lab_procedures 1 132\n",
      "num_procedures 0 6\n",
      "num_medications 1 81\n",
      "diag_1 1 19\n",
      "diag_2 1 19\n",
      "diag_3 1 19\n",
      "number_diagnoses 3 16\n",
      "max_glu_serum -999 1\n",
      "A1Cresult -999 1\n",
      "metformin 0 1\n",
      "repaglinide 0 1\n",
      "nateglinide 0 1\n",
      "chlorpropamide 0 1\n",
      "glimepiride 0 1\n",
      "acetohexamide 0 0\n",
      "glipizide 0 1\n",
      "glyburide 0 1\n",
      "tolbutamide 0 0\n",
      "pioglitazone 0 1\n",
      "rosiglitazone 0 1\n",
      "acarbose 0 1\n",
      "miglitol 0 1\n",
      "troglitazone 0 0\n",
      "tolazamide 0 0\n",
      "insulin 0 1\n",
      "glyburide-metformin 0 1\n",
      "glipizide-metformin 0 0\n",
      "glimepiride-pioglitazone 0 0\n",
      "metformin-rosiglitazone 0 0\n",
      "metformin-pioglitazone 0 0\n",
      "change 0 1\n",
      "diabetesMed 0 1\n",
      "readmitted 0 1\n",
      "people_hosp 0 2\n",
      "total_procedures 1 135\n",
      "severity 0 4\n"
     ]
    }
   ],
   "source": [
    "#check range\n",
    "for col in data.columns:\n",
    "    print(col,data[col].min(), data[col].max())"
   ]
  },
  {
   "cell_type": "code",
   "execution_count": 80,
   "id": "6d327da1-2023-4773-bd62-a02a31d2c89d",
   "metadata": {},
   "outputs": [],
   "source": [
    "\n",
    "'''\n",
    "Dummies\n",
    "'''\n",
    "data = pd.get_dummies(data, columns=['race'], drop_first = True)\n"
   ]
  },
  {
   "cell_type": "code",
   "execution_count": 51,
   "id": "62d4cb70-00c2-474f-adff-bbd434bf25dc",
   "metadata": {},
   "outputs": [],
   "source": [
    "# interactionterms = [('num_medications','time_in_hospital'),\n",
    "# ('num_medications','num_procedures'),\n",
    "# ('time_in_hospital','num_lab_procedures'),\n",
    "# ('num_medications','num_lab_procedures'),\n",
    "# ('num_medications','number_diagnoses'),\n",
    "# ('age','number_diagnoses'),\n",
    "# ('change','num_medications'),\n",
    "# ('number_diagnoses','time_in_hospital'),\n",
    "# ('num_medications','severity')]\n",
    "# for inter in interactionterms:\n",
    "#     name = inter[0] + '|' + inter[1]\n",
    "#     data[name] = data[inter[0]] * data[inter[1]]\n"
   ]
  },
  {
   "cell_type": "code",
   "execution_count": 83,
   "id": "8c907a30-a0b8-4f37-8eca-c7894ce31cd6",
   "metadata": {},
   "outputs": [],
   "source": [
    "'''\n",
    "Using Log Transform to remove Skewness.\n",
    "'''\n",
    "features = list(set(list(data._get_numeric_data().columns))- {'readmitted', 'admission_type_id', 'discharge_disposition_id', 'max_glu_serum', 'admission_source_id', 'A1Cresult'})\n",
    "for i in features:\n",
    "    skewval = data[i].skew()\n",
    "    kurtval = data[i].kurtosis()    \n",
    "    if (abs(skewval) > 1) or (abs(kurtval) > 1):\n",
    "        if len(data[data[i] == 0])/len(data) <= 0.02:\n",
    "            data[i] = np.log(data[i])\n",
    "        else:\n",
    "            data[i] = np.log1p(data[i])\n",
    "\n"
   ]
  },
  {
   "cell_type": "code",
   "execution_count": 84,
   "id": "416b906b-3735-4163-a710-d5ca876a3aa3",
   "metadata": {},
   "outputs": [],
   "source": [
    "'''\n",
    "Standarization\n",
    "'''\n",
    "indexName = list(set(list(data._get_numeric_data().columns))- {'readmitted', 'admission_type_id', 'discharge_disposition_id', 'max_glu_serum', 'admission_source_id', 'A1Cresult'})\n",
    "for col in indexName:\n",
    "    if col != \"readmitted\":\n",
    "        \n",
    "        data[col] = preprocessing.StandardScaler().fit_transform(data[[col]].values)\n",
    "        \n",
    "# data = data[(np.abs(sp.stats.zscore(data[features])) < 3).all(axis=1)]\n",
    "        "
   ]
  },
  {
   "cell_type": "code",
   "execution_count": 87,
   "id": "cf62e559-b54a-4eb2-a297-2ed8f4284cc8",
   "metadata": {},
   "outputs": [],
   "source": [
    "'''\n",
    "Spliting Data\n",
    "'''\n",
    "features = list(set(list(data.columns))- {'readmitted'})\n",
    "X = data[features]\n",
    "y = data['readmitted']\n",
    "X_train, X_test, y_train, y_test = train_test_split(X, y, test_size=0.2)"
   ]
  },
  {
   "cell_type": "code",
   "execution_count": 92,
   "id": "e9f1e4c5-415a-4877-9e3d-a4b2a7f484d9",
   "metadata": {},
   "outputs": [
    {
     "name": "stdout",
     "output_type": "stream",
     "text": [
      "Accuracy is 0.56\n",
      "Precision is 0.44\n",
      "Recall is 0.41\n"
     ]
    }
   ],
   "source": [
    "'''\n",
    "使用Decision Tree Model\n",
    "'''\n",
    "from sklearn.tree import DecisionTreeClassifier\n",
    "from sklearn.metrics import accuracy_score, precision_score, recall_score\n",
    "dtree = DecisionTreeClassifier(max_depth=28, criterion = \"entropy\", min_samples_split=10)\n",
    "dtree.fit(X_train, y_train)\n",
    "dtree_pred = dtree.predict(X_test)\n",
    "pd.crosstab(pd.Series(y_test, name = 'Actual'), pd.Series(dtree_pred, name = 'Predict'), margins = True)\n",
    "\n",
    "print(\"Accuracy is {0:.2f}\".format(accuracy_score(y_test, dtree_pred)))\n",
    "print(\"Precision is {0:.2f}\".format(precision_score(y_test, dtree_pred)))\n",
    "print(\"Recall is {0:.2f}\".format(recall_score(y_test, dtree_pred)))"
   ]
  },
  {
   "cell_type": "code",
   "execution_count": 98,
   "id": "e5d14ce5-c1a2-4bb9-866d-f44389900c56",
   "metadata": {},
   "outputs": [
    {
     "name": "stdout",
     "output_type": "stream",
     "text": [
      "Epoch 1/10\n",
      "1319/1319 [==============================] - 3s 2ms/step - loss: 0.7527 - accuracy: 0.5611\n",
      "Epoch 2/10\n",
      "1319/1319 [==============================] - 2s 2ms/step - loss: 0.6787 - accuracy: 0.5915\n",
      "Epoch 3/10\n",
      "1319/1319 [==============================] - 2s 2ms/step - loss: 0.6787 - accuracy: 0.5931\n",
      "Epoch 4/10\n",
      "1319/1319 [==============================] - 2s 2ms/step - loss: 0.6787 - accuracy: 0.5946\n",
      "Epoch 5/10\n",
      "1319/1319 [==============================] - 2s 2ms/step - loss: 0.6784 - accuracy: 0.5923\n",
      "Epoch 6/10\n",
      "1319/1319 [==============================] - 2s 2ms/step - loss: 0.6787 - accuracy: 0.5913\n",
      "Epoch 7/10\n",
      "1319/1319 [==============================] - 2s 2ms/step - loss: 0.6784 - accuracy: 0.5922\n",
      "Epoch 8/10\n",
      "1319/1319 [==============================] - 2s 2ms/step - loss: 0.6783 - accuracy: 0.5931\n",
      "Epoch 9/10\n",
      "1319/1319 [==============================] - 2s 2ms/step - loss: 0.6783 - accuracy: 0.5917\n",
      "Epoch 10/10\n",
      "1319/1319 [==============================] - 2s 2ms/step - loss: 0.6791 - accuracy: 0.5930\n"
     ]
    }
   ],
   "source": [
    "'''\n",
    "使用 Decision Tree Model\n",
    "'''\n",
    "import numpy as np\n",
    "import pandas as pd\n",
    "import matplotlib.pyplot as plt\n",
    "import tensorflow as tf\n",
    "from keras.layers import Dense, Dropout\n",
    "from tensorflow.keras.optimizers import SGD, Adam, RMSprop\n",
    "model = tf.keras.models.Sequential()\n",
    "model.add(Dense(100, input_shape = (45,), activation='relu')) \n",
    "model.add(Dense(100, activation='tanh')) #hidden sizes\n",
    "model.add(Dropout(0.45))\n",
    "model.add(Dense(10, activation='softmax'))\n",
    "\n",
    "#optimizer\n",
    "\n",
    "adam = Adam()\n",
    "\n",
    "\n",
    "model.compile(loss = tf.keras.losses.SparseCategoricalCrossentropy(), optimizer = adam, metrics = ['accuracy'])\n",
    "# from sklearn.ensemble import RandomForestClassifier\n",
    "# from sklearn.datasets import make_classification\n",
    "# clf = RandomForestClassifier(max_depth=2, random_state=0)\n",
    "# clf.fit(X_train, y_train)\n",
    "history = model.fit(X_train, y_train, epochs=10, verbose=1)"
   ]
  },
  {
   "cell_type": "code",
   "execution_count": 99,
   "id": "dd847377-431f-408d-88ae-9642468db616",
   "metadata": {},
   "outputs": [
    {
     "data": {
      "image/png": "[encoded data removed]",
      "text/plain": [
       "<Figure size 432x288 with 1 Axes>"
      ]
     },
     "metadata": {
      "needs_background": "light"
     },
     "output_type": "display_data"
    }
   ],
   "source": [
    "pd.DataFrame(history.history).plot()\n",
    "plt.xlabel(\"epoch\")\n",
    "plt.ylabel(\"values\")\n",
    "plt.title(\"Training Curves, learning rate=0.0001\")\n",
    "# plt.legend(bbox_to_anchor=(1, 1), loc=2)\n",
    "plt.show()"
   ]
  },
  {
   "cell_type": "code",
   "execution_count": 100,
   "id": "a2f23dd6-c7ad-48fe-80bc-7e27d6277aa4",
   "metadata": {},
   "outputs": [
    {
     "name": "stdout",
     "output_type": "stream",
     "text": [
      "########## Training Dataset ###########\n",
      "Accu.: 0.5990332440821743\n",
      "Recall: 0.5\n",
      "Precision: 0.29951662204108714\n",
      "F1: 0.37462213265366606\n",
      "########## Testing Dataset ###########\n",
      "Accu.: 0.6015543550374373\n",
      "Recall: 0.5\n",
      "Precision: 0.30077717751871863\n",
      "F1: 0.3756065806604332\n"
     ]
    },
    {
     "name": "stderr",
     "output_type": "stream",
     "text": [
      "/opt/conda/lib/python3.9/site-packages/sklearn/metrics/_classification.py:1318: UndefinedMetricWarning: Precision is ill-defined and being set to 0.0 in labels with no predicted samples. Use `zero_division` parameter to control this behavior.\n",
      "  _warn_prf(average, modifier, msg_start, len(result))\n",
      "/opt/conda/lib/python3.9/site-packages/sklearn/metrics/_classification.py:1318: UndefinedMetricWarning: Precision is ill-defined and being set to 0.0 in labels with no predicted samples. Use `zero_division` parameter to control this behavior.\n",
      "  _warn_prf(average, modifier, msg_start, len(result))\n"
     ]
    }
   ],
   "source": [
    "y_pred_train = model.predict(X_train)\n",
    "y_pred = model.predict(X_test)\n",
    "y_pred_train = np.argmax(y_pred_train, axis=-1)\n",
    "y_pred = np.argmax(y_pred, axis=-1)\n",
    "from sklearn.metrics import accuracy_score, mean_squared_error, precision_score, recall_score, confusion_matrix, f1_score, roc_auc_score\n",
    "print(\"########## Training Dataset ###########\")\n",
    "print(\"Accu.:\", accuracy_score(y_train, y_pred_train))\n",
    "print(\"Recall:\", recall_score(y_train, y_pred_train, average=\"macro\"))\n",
    "print(\"Precision:\", precision_score(y_train, y_pred_train, average=\"macro\"))\n",
    "print(\"F1:\", f1_score(y_train, y_pred_train, average=\"macro\"))\n",
    "\n",
    "print(\"########## Testing Dataset ###########\")\n",
    "print(\"Accu.:\", accuracy_score(y_test, y_pred))\n",
    "print(\"Recall:\", recall_score(y_test, y_pred, average=\"macro\"))\n",
    "print(\"Precision:\", precision_score(y_test, y_pred, average=\"macro\"))\n",
    "print(\"F1:\", f1_score(y_test, y_pred, average=\"macro\"))"
   ]
  },
  {
   "cell_type": "code",
   "execution_count": null,
   "id": "7e1ea8b5-90af-4448-9d24-59d2b562001a",
   "metadata": {},
   "outputs": [],
   "source": []
  },
  {
   "cell_type": "code",
   "execution_count": null,
   "id": "9e6b0662-3d2e-4db1-897a-49cb4f7c26fc",
   "metadata": {},
   "outputs": [],
   "source": []
  },
  {
   "cell_type": "code",
   "execution_count": null,
   "id": "5a2d961b-e5e3-4d0f-8e96-ed18cf3849e9",
   "metadata": {},
   "outputs": [],
   "source": []
  },
  {
   "cell_type": "code",
   "execution_count": null,
   "id": "78293dd8-0f47-4677-be60-6e98dafa34f4",
   "metadata": {},
   "outputs": [],
   "source": []
  },
  {
   "cell_type": "code",
   "execution_count": null,
   "id": "9c6975b8-6539-4d36-a8c5-24ca3fbf9970",
   "metadata": {},
   "outputs": [],
   "source": []
  }
 ],
 "metadata": {
  "kernelspec": {
   "display_name": "Python 3 (ipykernel)",
   "language": "python",
   "name": "python3"
  },
  "language_info": {
   "codemirror_mode": {
    "name": "ipython",
    "version": 3
   },
   "file_extension": ".py",
   "mimetype": "text/x-python",
   "name": "python",
   "nbconvert_exporter": "python",
   "pygments_lexer": "ipython3",
   "version": "3.9.10"
  }
 },
 "nbformat": 4,
 "nbformat_minor": 5
}
